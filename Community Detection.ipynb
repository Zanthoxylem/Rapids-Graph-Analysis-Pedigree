{
 "cells": [
  {
   "cell_type": "code",
   "execution_count": 7,
   "id": "de1b9755-e071-404e-92db-fa3ac44812b9",
   "metadata": {},
   "outputs": [],
   "source": [
    "import pandas as pd\n",
    "\n",
    "# Load the data\n",
    "df = pd.read_csv('PedInf.txt', delimiter='\\t')\n",
    "\n",
    "# Create edge list\n",
    "edges = []\n",
    "for _, row in df.iterrows():\n",
    "    if pd.notna(row['MaleParent']):\n",
    "        edges.append((row['MaleParent'], row['LineName']))\n",
    "    if pd.notna(row['FemaleParent']):\n",
    "        edges.append((row['FemaleParent'], row['LineName']))\n",
    "\n",
    "edges_df = pd.DataFrame(edges, columns=[\"Parent\", \"Child\"])\n",
    "\n",
    "# Save edges to CSV for loading into cuGraph\n",
    "edges_df.to_csv(\"edges.csv\", index=False)\n"
   ]
  },
  {
   "cell_type": "code",
   "execution_count": 19,
   "id": "4d2ff744-0617-4f64-9e08-43bd07f7939e",
   "metadata": {},
   "outputs": [
    {
     "name": "stderr",
     "output_type": "stream",
     "text": [
      "/home/useradd/miniconda3/envs/rapids-24.02/lib/python3.10/site-packages/cugraph/structure/symmetrize.py:93: FutureWarning: Multi is deprecated and the removal of multi edges will no longer be supported from 'symmetrize'. Multi edges will be removed upon creation of graph instance.\n",
      "  warnings.warn(\n"
     ]
    },
    {
     "name": "stdout",
     "output_type": "stream",
     "text": [
      "Louvain Community Detection\n",
      "   partition      vertex\n",
      "0         27   CP95-1987\n",
      "1          4   CP06-2707\n",
      "2          3   CP69-0391\n",
      "3          6   CP13-1137\n",
      "4          6   CP10-1246\n",
      "5         25   CP17-1729\n",
      "6         26   CP07-1183\n",
      "7         17   CP91-1034\n",
      "8          3  LCP85-0322\n",
      "9          9   CP12-1176\n"
     ]
    }
   ],
   "source": [
    "import cudf\n",
    "import cugraph\n",
    "\n",
    "# Load the edges into cuDF\n",
    "edges_df = cudf.read_csv(\"edges.csv\")\n",
    "\n",
    "# Create an undirected graph directly\n",
    "G = cugraph.Graph(directed=False)\n",
    "G.from_cudf_edgelist(edges_df, source='Parent', destination='Child')\n",
    "\n",
    "# Perform Louvain community detection\n",
    "louvain_parts, modularity = cugraph.louvain(G)\n",
    "louvain_parts = louvain_parts.to_pandas()\n",
    "\n",
    "# Display the results\n",
    "print(\"Louvain Community Detection\")\n",
    "print(louvain_parts.head(10))\n"
   ]
  },
  {
   "cell_type": "code",
   "execution_count": null,
   "id": "35608dd7-a425-431f-b4f7-199481cedb94",
   "metadata": {},
   "outputs": [],
   "source": [
    "import networkx as nx\n",
    "import matplotlib.pyplot as plt\n",
    "\n",
    "# Convert cuGraph edges to a pandas DataFrame\n",
    "edges_df = G.view_edge_list().to_pandas()\n",
    "\n",
    "# Create a NetworkX graph from the edge list\n",
    "G_nx = nx.from_pandas_edgelist(edges_df, source='Parent', target='Child')\n",
    "\n",
    "# Add Louvain community information to the NetworkX graph\n",
    "louvain_communities = louvain_parts.set_index('vertex')['partition'].to_dict()\n",
    "nx.set_node_attributes(G_nx, louvain_communities, 'louvain')\n",
    "\n",
    "# Calculate various centrality metrics for each vertex\n",
    "degree_centrality = nx.degree_centrality(G_nx)\n",
    "betweenness_centrality = nx.betweenness_centrality(G_nx)\n",
    "closeness_centrality = nx.closeness_centrality(G_nx)\n",
    "eigenvector_centrality = nx.eigenvector_centrality(G_nx)\n",
    "pagerank = nx.pagerank(G_nx)\n",
    "clustering_coefficient = nx.clustering(G_nx)\n",
    "\n",
    "# Create a DataFrame to hold vertex, partition, and centrality information\n",
    "centrality_df = pd.DataFrame({\n",
    "    'vertex': list(degree_centrality.keys()),\n",
    "    'degree_centrality': list(degree_centrality.values()),\n",
    "    'betweenness_centrality': list(betweenness_centrality.values()),\n",
    "    'closeness_centrality': list(closeness_centrality.values()),\n",
    "    'eigenvector_centrality': list(eigenvector_centrality.values()),\n",
    "    'pagerank': list(pagerank.values()),\n",
    "    'clustering_coefficient': list(clustering_coefficient.values())\n",
    "})\n",
    "\n",
    "# Add partition information to the DataFrame\n",
    "centrality_df['partition'] = centrality_df['vertex'].map(louvain_communities)\n",
    "\n",
    "# Find the vertex with the greatest contribution to each partition for each metric\n",
    "max_metrics_per_partition = centrality_df.loc[centrality_df.groupby('partition').idxmax()]\n",
    "\n",
    "# Print the results\n",
    "print(\"Vertex with Greatest Contribution in Each Partition for Each Metric\")\n",
    "print(max_metrics_per_partition)\n",
    "\n",
    "# Export to CSV\n",
    "max_metrics_per_partition.to_csv(\"max_metrics_per_partition.csv\", index=False)\n"
   ]
  },
  {
   "cell_type": "code",
   "execution_count": 21,
   "id": "cd557399-2485-4e68-b9f8-b5bb19919e0c",
   "metadata": {},
   "outputs": [
    {
     "name": "stdout",
     "output_type": "stream",
     "text": [
      "Index(['Parent', 'Child'], dtype='object')\n"
     ]
    }
   ],
   "source": [
    "# Convert cuGraph edges to a pandas DataFrame\n",
    "edges_df = G.view_edge_list().to_pandas()\n",
    "\n",
    "# Print the columns to verify\n",
    "print(edges_df.columns)"
   ]
  },
  {
   "cell_type": "code",
   "execution_count": null,
   "id": "1c8eee81-ca14-45fd-b8e3-2797b166ab2d",
   "metadata": {},
   "outputs": [],
   "source": []
  }
 ],
 "metadata": {
  "kernelspec": {
   "display_name": "Python 3 (ipykernel)",
   "language": "python",
   "name": "python3"
  },
  "language_info": {
   "codemirror_mode": {
    "name": "ipython",
    "version": 3
   },
   "file_extension": ".py",
   "mimetype": "text/x-python",
   "name": "python",
   "nbconvert_exporter": "python",
   "pygments_lexer": "ipython3",
   "version": "3.10.14"
  }
 },
 "nbformat": 4,
 "nbformat_minor": 5
}
