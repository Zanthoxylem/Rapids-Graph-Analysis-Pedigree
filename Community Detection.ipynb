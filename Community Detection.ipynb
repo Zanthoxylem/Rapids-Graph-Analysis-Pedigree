{
 "cells": [
  {
   "cell_type": "code",
   "execution_count": 1,
   "id": "de1b9755-e071-404e-92db-fa3ac44812b9",
   "metadata": {},
   "outputs": [],
   "source": [
    "import pandas as pd\n",
    "\n",
    "# Load the data\n",
    "df = pd.read_csv('PedInf.txt', delimiter='\\t')\n",
    "\n",
    "# Create edge list\n",
    "edges = []\n",
    "for _, row in df.iterrows():\n",
    "    if pd.notna(row['MaleParent']):\n",
    "        edges.append((row['MaleParent'], row['LineName']))\n",
    "    if pd.notna(row['FemaleParent']):\n",
    "        edges.append((row['FemaleParent'], row['LineName']))\n",
    "\n",
    "edges_df = pd.DataFrame(edges, columns=[\"Parent\", \"Child\"])\n",
    "\n",
    "# Save edges to CSV for loading into cuGraph\n",
    "edges_df.to_csv(\"edges.csv\", index=False)\n"
   ]
  },
  {
   "cell_type": "code",
   "execution_count": 4,
   "id": "4d2ff744-0617-4f64-9e08-43bd07f7939e",
   "metadata": {},
   "outputs": [
    {
     "name": "stderr",
     "output_type": "stream",
     "text": [
      "/home/useradd/miniconda3/envs/rapids-24.02/lib/python3.10/site-packages/cugraph/structure/symmetrize.py:93: FutureWarning: Multi is deprecated and the removal of multi edges will no longer be supported from 'symmetrize'. Multi edges will be removed upon creation of graph instance.\n",
      "  warnings.warn(\n"
     ]
    },
    {
     "name": "stdout",
     "output_type": "stream",
     "text": [
      "Leiden algorithm is not available in this version of cuGraph.\n",
      "Louvain Community Detection\n",
      "   partition       vertex\n",
      "0         15    CP92-1084\n",
      "1          5    CP95-1028\n",
      "2         18    CP17-4205\n",
      "3          7  CPCL01-7231\n",
      "4         20    CP10-1457\n",
      "5         24  CPCL06-3302\n",
      "6         13    CP12-1033\n",
      "7         17    CP90-1557\n",
      "8          7    CP09-1817\n",
      "9         20    CP14-2394\n",
      "Leiden Community Detection\n"
     ]
    },
    {
     "ename": "AttributeError",
     "evalue": "'tuple' object has no attribute 'head'",
     "output_type": "error",
     "traceback": [
      "\u001b[0;31m---------------------------------------------------------------------------\u001b[0m",
      "\u001b[0;31mAttributeError\u001b[0m                            Traceback (most recent call last)",
      "Cell \u001b[0;32mIn[4], line 28\u001b[0m\n\u001b[1;32m     26\u001b[0m \u001b[38;5;28;01mif\u001b[39;00m \u001b[38;5;124m'\u001b[39m\u001b[38;5;124mleiden_parts\u001b[39m\u001b[38;5;124m'\u001b[39m \u001b[38;5;129;01min\u001b[39;00m \u001b[38;5;28mlocals\u001b[39m():\n\u001b[1;32m     27\u001b[0m     \u001b[38;5;28mprint\u001b[39m(\u001b[38;5;124m\"\u001b[39m\u001b[38;5;124mLeiden Community Detection\u001b[39m\u001b[38;5;124m\"\u001b[39m)\n\u001b[0;32m---> 28\u001b[0m     \u001b[38;5;28mprint\u001b[39m(\u001b[43mleiden_parts\u001b[49m\u001b[38;5;241;43m.\u001b[39;49m\u001b[43mhead\u001b[49m(\u001b[38;5;241m10\u001b[39m))\n",
      "\u001b[0;31mAttributeError\u001b[0m: 'tuple' object has no attribute 'head'"
     ]
    }
   ],
   "source": [
    "import cudf\n",
    "import cugraph\n",
    "\n",
    "# Load the edges into cuDF\n",
    "edges_df = cudf.read_csv(\"edges.csv\")\n",
    "\n",
    "# Create an undirected graph directly\n",
    "G = cugraph.Graph(directed=False)\n",
    "G.from_cudf_edgelist(edges_df, source='Parent', destination='Child')\n",
    "\n",
    "# Perform Louvain community detection\n",
    "louvain_parts, modularity = cugraph.louvain(G)\n",
    "louvain_parts = louvain_parts.to_pandas()\n",
    "\n",
    "# Perform Leiden community detection (if available in your version of cuGraph)\n",
    "try:\n",
    "    leiden_parts = cugraph.leiden(G)\n",
    "    leiden_parts = leiden_parts.to_pandas()\n",
    "except AttributeError:\n",
    "    print(\"Leiden algorithm is not available in this version of cuGraph.\")\n",
    "\n",
    "# Display the results\n",
    "print(\"Louvain Community Detection\")\n",
    "print(louvain_parts.head(10))\n",
    "\n",
    "if 'leiden_parts' in locals():\n",
    "    print(\"Leiden Community Detection\")\n",
    "    print(leiden_parts.head(10))\n"
   ]
  },
  {
   "cell_type": "code",
   "execution_count": 5,
   "id": "35608dd7-a425-431f-b4f7-199481cedb94",
   "metadata": {},
   "outputs": [
    {
     "ename": "AttributeError",
     "evalue": "to_networkx",
     "output_type": "error",
     "traceback": [
      "\u001b[0;31m---------------------------------------------------------------------------\u001b[0m",
      "\u001b[0;31mAttributeError\u001b[0m                            Traceback (most recent call last)",
      "Cell \u001b[0;32mIn[5], line 5\u001b[0m\n\u001b[1;32m      2\u001b[0m \u001b[38;5;28;01mimport\u001b[39;00m \u001b[38;5;21;01mmatplotlib\u001b[39;00m\u001b[38;5;21;01m.\u001b[39;00m\u001b[38;5;21;01mpyplot\u001b[39;00m \u001b[38;5;28;01mas\u001b[39;00m \u001b[38;5;21;01mplt\u001b[39;00m\n\u001b[1;32m      4\u001b[0m \u001b[38;5;66;03m# Convert the cuGraph graph to a NetworkX graph for visualization\u001b[39;00m\n\u001b[0;32m----> 5\u001b[0m G_nx \u001b[38;5;241m=\u001b[39m \u001b[43mG\u001b[49m\u001b[38;5;241;43m.\u001b[39;49m\u001b[43mto_networkx\u001b[49m()\n\u001b[1;32m      7\u001b[0m \u001b[38;5;66;03m# Add Louvain community information to the NetworkX graph\u001b[39;00m\n\u001b[1;32m      8\u001b[0m louvain_communities \u001b[38;5;241m=\u001b[39m louvain_parts\u001b[38;5;241m.\u001b[39mset_index(\u001b[38;5;124m'\u001b[39m\u001b[38;5;124mvertex\u001b[39m\u001b[38;5;124m'\u001b[39m)[\u001b[38;5;124m'\u001b[39m\u001b[38;5;124mpartition\u001b[39m\u001b[38;5;124m'\u001b[39m]\u001b[38;5;241m.\u001b[39mto_dict()\n",
      "File \u001b[0;32m~/miniconda3/envs/rapids-24.02/lib/python3.10/site-packages/cugraph/structure/graph_classes.py:102\u001b[0m, in \u001b[0;36mGraph.__getattr__\u001b[0;34m(self, name)\u001b[0m\n\u001b[1;32m    100\u001b[0m     \u001b[38;5;28;01mreturn\u001b[39;00m \u001b[38;5;28mgetattr\u001b[39m(\u001b[38;5;28mself\u001b[39m\u001b[38;5;241m.\u001b[39m_Impl\u001b[38;5;241m.\u001b[39mproperties, name)\n\u001b[1;32m    101\u001b[0m \u001b[38;5;28;01melse\u001b[39;00m:\n\u001b[0;32m--> 102\u001b[0m     \u001b[38;5;28;01mraise\u001b[39;00m \u001b[38;5;167;01mAttributeError\u001b[39;00m(name)\n",
      "\u001b[0;31mAttributeError\u001b[0m: to_networkx"
     ]
    }
   ],
   "source": [
    "import networkx as nx\n",
    "import matplotlib.pyplot as plt\n",
    "\n",
    "# Convert the cuGraph graph to a NetworkX graph for visualization\n",
    "G_nx = G.to_networkx()\n",
    "\n",
    "# Add Louvain community information to the NetworkX graph\n",
    "louvain_communities = louvain_parts.set_index('vertex')['partition'].to_dict()\n",
    "nx.set_node_attributes(G_nx, louvain_communities, 'louvain')\n",
    "\n",
    "# Plot Louvain communities\n",
    "plt.figure(figsize=(12, 8))\n",
    "pos = nx.spring_layout(G_nx)\n",
    "colors = [louvain_communities[node] for node in G_nx.nodes()]\n",
    "nx.draw(G_nx, pos, node_color=colors, with_labels=True, node_size=50, cmap=plt.cm.jet)\n",
    "plt.title('Louvain Community Detection')\n",
    "plt.show()\n",
    "\n",
    "# If Leiden communities were computed\n",
    "if 'leiden_parts' in locals():\n",
    "    leiden_communities = leiden_parts.set_index('vertex')['partition'].to_dict()\n",
    "    nx.set_node_attributes(G_nx, leiden_communities, 'leiden')\n",
    "\n",
    "    # Plot Leiden communities\n",
    "    plt.figure(figsize=(12, 8))\n",
    "    colors = [leiden_communities[node] for node in G_nx.nodes()]\n",
    "    nx.draw(G_nx, pos, node_color=colors, with_labels=True, node_size=50, cmap=plt.cm.jet)\n",
    "    plt.title('Leiden Community Detection')\n",
    "    plt.show()\n"
   ]
  },
  {
   "cell_type": "code",
   "execution_count": null,
   "id": "cd557399-2485-4e68-b9f8-b5bb19919e0c",
   "metadata": {},
   "outputs": [],
   "source": []
  }
 ],
 "metadata": {
  "kernelspec": {
   "display_name": "Python 3 (ipykernel)",
   "language": "python",
   "name": "python3"
  },
  "language_info": {
   "codemirror_mode": {
    "name": "ipython",
    "version": 3
   },
   "file_extension": ".py",
   "mimetype": "text/x-python",
   "name": "python",
   "nbconvert_exporter": "python",
   "pygments_lexer": "ipython3",
   "version": "3.10.14"
  }
 },
 "nbformat": 4,
 "nbformat_minor": 5
}
